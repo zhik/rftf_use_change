{
 "cells": [
  {
   "cell_type": "code",
   "execution_count": 23,
   "metadata": {},
   "outputs": [],
   "source": [
    "import requests\n",
    "from time import sleep\n",
    "import pandas as pd"
   ]
  },
  {
   "cell_type": "code",
   "execution_count": 14,
   "metadata": {},
   "outputs": [
    {
     "data": {
      "text/html": [
       "<div>\n",
       "<style scoped>\n",
       "    .dataframe tbody tr th:only-of-type {\n",
       "        vertical-align: middle;\n",
       "    }\n",
       "\n",
       "    .dataframe tbody tr th {\n",
       "        vertical-align: top;\n",
       "    }\n",
       "\n",
       "    .dataframe thead th {\n",
       "        text-align: right;\n",
       "    }\n",
       "</style>\n",
       "<table border=\"1\" class=\"dataframe\">\n",
       "  <thead>\n",
       "    <tr style=\"text-align: right;\">\n",
       "      <th></th>\n",
       "      <th>bbl</th>\n",
       "      <th>15</th>\n",
       "      <th>16</th>\n",
       "      <th>17</th>\n",
       "      <th>18</th>\n",
       "      <th>19</th>\n",
       "      <th>cd</th>\n",
       "      <th>address</th>\n",
       "      <th>xcoord</th>\n",
       "      <th>ycoord</th>\n",
       "    </tr>\n",
       "  </thead>\n",
       "  <tbody>\n",
       "    <tr>\n",
       "      <td>0</td>\n",
       "      <td>1000090007</td>\n",
       "      <td>M1</td>\n",
       "      <td>M1</td>\n",
       "      <td>M1</td>\n",
       "      <td>M1</td>\n",
       "      <td>M1</td>\n",
       "      <td>101.0</td>\n",
       "      <td>7 STATE STREET</td>\n",
       "      <td>980457.0</td>\n",
       "      <td>195256.0</td>\n",
       "    </tr>\n",
       "    <tr>\n",
       "      <td>1</td>\n",
       "      <td>1000410022</td>\n",
       "      <td>M1</td>\n",
       "      <td>M1</td>\n",
       "      <td>M1</td>\n",
       "      <td>M1</td>\n",
       "      <td>M1</td>\n",
       "      <td>101.0</td>\n",
       "      <td>56 WILLIAM STREET</td>\n",
       "      <td>981832.0</td>\n",
       "      <td>196858.0</td>\n",
       "    </tr>\n",
       "    <tr>\n",
       "      <td>2</td>\n",
       "      <td>1000490001</td>\n",
       "      <td>M1</td>\n",
       "      <td>M1</td>\n",
       "      <td>M1</td>\n",
       "      <td>M1</td>\n",
       "      <td>M1</td>\n",
       "      <td>101.0</td>\n",
       "      <td>75 BROADWAY</td>\n",
       "      <td>980907.0</td>\n",
       "      <td>197274.0</td>\n",
       "    </tr>\n",
       "    <tr>\n",
       "      <td>3</td>\n",
       "      <td>1000540001</td>\n",
       "      <td>V1</td>\n",
       "      <td>Z9</td>\n",
       "      <td>M1</td>\n",
       "      <td>O2</td>\n",
       "      <td>O2</td>\n",
       "      <td>101.0</td>\n",
       "      <td>130 GREENWICH STREET</td>\n",
       "      <td>980538.0</td>\n",
       "      <td>197809.0</td>\n",
       "    </tr>\n",
       "    <tr>\n",
       "      <td>4</td>\n",
       "      <td>1000670030</td>\n",
       "      <td>M1</td>\n",
       "      <td>M1</td>\n",
       "      <td>M1</td>\n",
       "      <td>M1</td>\n",
       "      <td>M1</td>\n",
       "      <td>101.0</td>\n",
       "      <td>44 JOHN STREET</td>\n",
       "      <td>981991.0</td>\n",
       "      <td>197619.0</td>\n",
       "    </tr>\n",
       "  </tbody>\n",
       "</table>\n",
       "</div>"
      ],
      "text/plain": [
       "          bbl  15  16  17  18  19     cd               address    xcoord  \\\n",
       "0  1000090007  M1  M1  M1  M1  M1  101.0        7 STATE STREET  980457.0   \n",
       "1  1000410022  M1  M1  M1  M1  M1  101.0     56 WILLIAM STREET  981832.0   \n",
       "2  1000490001  M1  M1  M1  M1  M1  101.0           75 BROADWAY  980907.0   \n",
       "3  1000540001  V1  Z9  M1  O2  O2  101.0  130 GREENWICH STREET  980538.0   \n",
       "4  1000670030  M1  M1  M1  M1  M1  101.0        44 JOHN STREET  981991.0   \n",
       "\n",
       "     ycoord  \n",
       "0  195256.0  \n",
       "1  196858.0  \n",
       "2  197274.0  \n",
       "3  197809.0  \n",
       "4  197619.0  "
      ]
     },
     "execution_count": 14,
     "metadata": {},
     "output_type": "execute_result"
    }
   ],
   "source": [
    "m = pd.read_csv('./processed_data/filtered_m.csv')\n",
    "m.head()"
   ]
  },
  {
   "cell_type": "code",
   "execution_count": 31,
   "metadata": {},
   "outputs": [
    {
     "name": "stdout",
     "output_type": "stream",
     "text": [
      "1000090007 [{'job_type': 'A3', 'date': '02/24/2012'}, {'job_type': 'A2', 'date': '11/10/2009'}, {'job_type': 'A3', 'date': '10/30/2009'}, {'job_type': 'A3', 'date': '10/30/2009'}]\n",
      "1000410022 [{'job_type': 'A3', 'date': '06/09/2008'}, {'job_type': 'PA', 'date': '06/02/2017'}, {'job_type': 'A2', 'date': '12/17/2015'}, {'job_type': 'A2', 'date': '12/15/2003'}]\n",
      "1000490001 [{'job_type': 'A2', 'date': ''}, {'job_type': 'A2', 'date': ''}, {'job_type': 'A2', 'date': ''}, {'job_type': 'A2', 'date': ''}, {'job_type': 'A2', 'date': '08/14/2019'}, {'job_type': 'A2', 'date': '12/17/2018'}, {'job_type': 'A3', 'date': '10/12/2011'}, {'job_type': 'A2', 'date': '06/15/2012'}, {'job_type': 'A3', 'date': '05/07/2012'}, {'job_type': 'A3', 'date': '06/12/2012'}, {'job_type': 'A3', 'date': '05/11/2012'}, {'job_type': 'A3', 'date': '08/10/2012'}, {'job_type': 'A3', 'date': '08/10/2012'}, {'job_type': 'A2', 'date': '09/26/2012'}, {'job_type': 'A2', 'date': '07/31/2013'}, {'job_type': 'A2', 'date': ''}, {'job_type': 'A2', 'date': ''}, {'job_type': 'A2', 'date': ''}, {'job_type': 'A2', 'date': ''}, {'job_type': 'A2', 'date': '05/08/2014'}, {'job_type': 'A2', 'date': '04/07/2014'}, {'job_type': 'A2', 'date': ''}, {'job_type': 'A2', 'date': ''}, {'job_type': 'A3', 'date': '04/15/2014'}, {'job_type': 'A3', 'date': '04/15/2014'}, {'job_type': 'A3', 'date': '08/18/2015'}, {'job_type': 'A2', 'date': ''}, {'job_type': 'A2', 'date': ''}, {'job_type': 'A2', 'date': ''}, {'job_type': 'A2', 'date': '02/24/2017'}, {'job_type': 'A3', 'date': '11/06/2015'}, {'job_type': 'A2', 'date': ''}, {'job_type': 'A3', 'date': '07/20/2017'}, {'job_type': 'A3', 'date': '10/16/2017'}, {'job_type': 'A3', 'date': ''}, {'job_type': 'A3', 'date': '10/16/2017'}, {'job_type': 'A2', 'date': ''}, {'job_type': 'A2', 'date': ''}, {'job_type': 'A3', 'date': '06/13/2018'}, {'job_type': 'A2', 'date': '08/16/2019'}, {'job_type': 'A2', 'date': ''}, {'job_type': 'A2', 'date': '08/20/2019'}, {'job_type': 'A3', 'date': '11/07/2001'}, {'job_type': 'A3', 'date': '11/08/2001'}, {'job_type': 'A2', 'date': '01/31/2003'}, {'job_type': 'A2', 'date': '11/07/2003'}, {'job_type': 'A3', 'date': '07/13/2006'}, {'job_type': 'A3', 'date': '07/13/2006'}, {'job_type': 'A2', 'date': ''}, {'job_type': 'A2', 'date': '08/22/2006'}]\n",
      "1000540001 [{'job_type': 'A2', 'date': '03/13/2008'}, {'job_type': 'A2', 'date': '03/07/2008'}, {'job_type': 'A2', 'date': '03/18/2008'}, {'job_type': 'A2', 'date': '04/15/2008'}, {'job_type': 'A2', 'date': '04/17/2008'}, {'job_type': 'A2', 'date': '03/21/2008'}, {'job_type': 'A2', 'date': '03/31/2008'}, {'job_type': 'A3', 'date': '03/05/2008'}, {'job_type': 'A3', 'date': '04/02/2008'}, {'job_type': 'A2', 'date': '04/24/2008'}, {'job_type': 'A2', 'date': '05/12/2008'}, {'job_type': 'A2', 'date': '05/15/2008'}, {'job_type': 'A2', 'date': '06/19/2008'}, {'job_type': 'A2', 'date': '06/19/2008'}, {'job_type': 'A2', 'date': '08/11/2008'}, {'job_type': 'A2', 'date': '12/16/2008'}, {'job_type': 'A2', 'date': '09/18/2008'}, {'job_type': 'A2', 'date': '10/01/2008'}, {'job_type': 'A3', 'date': '12/30/2008'}, {'job_type': 'A2', 'date': '01/09/2009'}, {'job_type': 'A2', 'date': ''}, {'job_type': 'A2', 'date': '01/21/2009'}, {'job_type': 'A2', 'date': '01/26/2009'}, {'job_type': 'A2', 'date': '02/12/2009'}, {'job_type': 'A2', 'date': '02/26/2009'}, {'job_type': 'A2', 'date': '05/15/2009'}, {'job_type': 'A2', 'date': '03/24/2009'}, {'job_type': 'A2', 'date': '04/22/2009'}, {'job_type': 'A2', 'date': '05/01/2009'}, {'job_type': 'A2', 'date': '04/13/2009'}, {'job_type': 'A2', 'date': '04/10/2009'}, {'job_type': 'A2', 'date': '06/09/2009'}, {'job_type': 'A2', 'date': '05/12/2009'}, {'job_type': 'A2', 'date': '05/19/2009'}, {'job_type': 'A2', 'date': ''}, {'job_type': 'A3', 'date': '10/20/2009'}, {'job_type': 'DM', 'date': '10/20/2009'}, {'job_type': 'A3', 'date': '10/19/2009'}, {'job_type': 'A2', 'date': '10/20/2009'}, {'job_type': 'A2', 'date': '10/16/2009'}, {'job_type': 'A2', 'date': '01/26/2010'}, {'job_type': 'A2', 'date': '02/04/2010'}, {'job_type': 'A2', 'date': '05/12/2010'}, {'job_type': 'A2', 'date': '08/11/2010'}, {'job_type': 'A2', 'date': '08/13/2010'}, {'job_type': 'A3', 'date': '09/24/2010'}, {'job_type': 'A3', 'date': '02/16/2011'}, {'job_type': 'A2', 'date': '05/25/2011'}, {'job_type': 'A2', 'date': ''}, {'job_type': 'A2', 'date': ''}, {'job_type': 'A2', 'date': ''}, {'job_type': 'A2', 'date': ''}, {'job_type': 'A2', 'date': '07/03/2001'}, {'job_type': 'A2', 'date': '05/21/2001'}, {'job_type': 'A2', 'date': ''}, {'job_type': 'A2', 'date': ''}, {'job_type': 'A2', 'date': ''}, {'job_type': 'A2', 'date': '06/29/2001'}, {'job_type': 'A2', 'date': '06/27/2001'}, {'job_type': 'A2', 'date': ''}, {'job_type': 'A2', 'date': ''}, {'job_type': 'A2', 'date': ''}, {'job_type': 'A2', 'date': ''}, {'job_type': 'A2', 'date': ''}, {'job_type': 'A2', 'date': ''}, {'job_type': 'A2', 'date': ''}, {'job_type': 'A2', 'date': '12/05/2000'}, {'job_type': 'A2', 'date': ''}, {'job_type': 'A2', 'date': ''}, {'job_type': 'A3', 'date': '04/08/2003'}, {'job_type': 'A3', 'date': '04/07/2003'}, {'job_type': 'A3', 'date': '04/10/2003'}, {'job_type': 'A3', 'date': '05/08/2002'}, {'job_type': 'A2', 'date': '03/26/2002'}, {'job_type': 'A2', 'date': '04/12/2002'}, {'job_type': 'A3', 'date': '01/07/2003'}, {'job_type': 'A3', 'date': '04/08/2003'}, {'job_type': 'A3', 'date': '01/14/2003'}, {'job_type': 'A3', 'date': '01/14/2003'}, {'job_type': 'A2', 'date': '07/03/2003'}, {'job_type': 'A2', 'date': '08/27/2003'}, {'job_type': 'A3', 'date': '08/21/2003'}, {'job_type': 'A3', 'date': '10/12/2004'}, {'job_type': 'A3', 'date': '10/12/2004'}, {'job_type': 'A3', 'date': '01/21/2005'}, {'job_type': 'A3', 'date': '09/09/2005'}, {'job_type': 'A3', 'date': '08/08/2005'}, {'job_type': 'A3', 'date': '08/10/2005'}, {'job_type': 'A3', 'date': '11/28/2005'}, {'job_type': 'A3', 'date': '06/26/2006'}, {'job_type': 'A3', 'date': ''}, {'job_type': 'A3', 'date': '10/10/2006'}, {'job_type': 'A2', 'date': '02/02/2007'}, {'job_type': 'A3', 'date': '03/13/2007'}, {'job_type': 'A2', 'date': '03/13/2007'}, {'job_type': 'A2', 'date': '11/21/2006'}, {'job_type': 'A2', 'date': '12/06/2006'}, {'job_type': 'A2', 'date': '12/06/2006'}, {'job_type': 'A2', 'date': '05/09/2007'}, {'job_type': 'A2', 'date': '05/07/2007'}, {'job_type': 'A2', 'date': '07/17/2007'}, {'job_type': 'A2', 'date': '06/26/2007'}, {'job_type': 'A2', 'date': '06/06/2007'}, {'job_type': 'A3', 'date': '06/19/2007'}, {'job_type': 'A3', 'date': '05/16/2007'}, {'job_type': 'A3', 'date': '03/13/2007'}, {'job_type': 'A2', 'date': '04/04/2007'}, {'job_type': 'A2', 'date': '04/27/2007'}, {'job_type': 'A2', 'date': '04/25/2007'}, {'job_type': 'A3', 'date': '06/27/2007'}, {'job_type': 'A2', 'date': '07/18/2007'}, {'job_type': 'A2', 'date': '08/03/2007'}, {'job_type': 'A2', 'date': '07/02/2007'}, {'job_type': 'A2', 'date': '06/12/2007'}, {'job_type': 'A3', 'date': '07/17/2007'}, {'job_type': 'A3', 'date': '08/01/2007'}, {'job_type': 'A3', 'date': '08/13/2007'}, {'job_type': 'A3', 'date': ''}, {'job_type': 'A3', 'date': ''}, {'job_type': 'A3', 'date': '03/16/2007'}, {'job_type': 'A2', 'date': ''}, {'job_type': 'A3', 'date': ''}, {'job_type': 'A3', 'date': ''}, {'job_type': 'A3', 'date': ''}, {'job_type': 'A2', 'date': ''}, {'job_type': 'A2', 'date': ''}, {'job_type': 'A2', 'date': '08/01/2007'}, {'job_type': 'A2', 'date': ''}, {'job_type': 'A2', 'date': ''}, {'job_type': 'A2', 'date': ''}, {'job_type': 'A2', 'date': ''}, {'job_type': 'A2', 'date': ''}, {'job_type': 'A2', 'date': '08/13/2007'}, {'job_type': 'A2', 'date': ''}, {'job_type': 'A2', 'date': ''}, {'job_type': 'A2', 'date': ''}, {'job_type': 'A2', 'date': ''}, {'job_type': 'A3', 'date': ''}, {'job_type': 'A3', 'date': ''}, {'job_type': 'A2', 'date': ''}, {'job_type': 'A2', 'date': ''}, {'job_type': 'A2', 'date': ''}, {'job_type': 'A2', 'date': ''}, {'job_type': 'A2', 'date': ''}, {'job_type': 'A3', 'date': '11/27/2007'}, {'job_type': 'A3', 'date': ''}, {'job_type': 'A2', 'date': '09/26/2007'}, {'job_type': 'A2', 'date': '09/25/2007'}, {'job_type': 'A2', 'date': '09/18/2007'}, {'job_type': 'A2', 'date': '10/24/2007'}, {'job_type': 'A3', 'date': '01/25/2008'}, {'job_type': 'A2', 'date': '01/25/2008'}, {'job_type': 'A2', 'date': '02/26/2008'}]\n"
     ]
    },
    {
     "name": "stdout",
     "output_type": "stream",
     "text": [
      "1000670030 [{'job_type': 'A2', 'date': ''}]\n",
      "1000870001 [{'job_type': 'A3', 'date': '10/06/2011'}, {'job_type': 'A2', 'date': '01/18/2012'}, {'job_type': 'A3', 'date': '03/19/2013'}, {'job_type': 'A3', 'date': '03/21/2013'}, {'job_type': 'A2', 'date': '10/01/2013'}, {'job_type': 'A3', 'date': '10/16/2013'}, {'job_type': 'A2', 'date': '04/22/2014'}, {'job_type': 'A2', 'date': ''}, {'job_type': 'A2', 'date': ''}, {'job_type': 'A2', 'date': '12/02/2014'}, {'job_type': 'A3', 'date': '08/02/2014'}, {'job_type': 'A3', 'date': '08/02/2014'}, {'job_type': 'A3', 'date': '09/16/2014'}, {'job_type': 'A3', 'date': '09/16/2014'}, {'job_type': 'A3', 'date': '09/16/2014'}, {'job_type': 'A2', 'date': '01/20/2016'}, {'job_type': 'A2', 'date': '04/29/2016'}, {'job_type': 'A2', 'date': '08/04/2016'}, {'job_type': 'A2', 'date': '06/14/2016'}, {'job_type': 'A2', 'date': '11/16/2017'}, {'job_type': 'A2', 'date': ''}, {'job_type': 'A2', 'date': '02/15/2018'}, {'job_type': 'A3', 'date': '06/13/2018'}, {'job_type': 'A2', 'date': ''}]\n",
      "1000880004 [{'job_type': 'A3', 'date': '02/29/2016'}, {'job_type': 'A3', 'date': '02/22/2016'}, {'job_type': 'A1', 'date': '04/02/2004'}, {'job_type': 'A1', 'date': ''}, {'job_type': 'A1', 'date': ''}, {'job_type': 'A2', 'date': '04/01/2005'}, {'job_type': 'A3', 'date': '09/29/2003'}, {'job_type': 'A3', 'date': '04/29/2004'}, {'job_type': 'A2', 'date': '02/17/2005'}, {'job_type': 'A3', 'date': '09/11/2007'}]\n",
      "1000880011 [{'job_type': 'A2', 'date': '04/30/2019'}, {'job_type': 'A2', 'date': ''}, {'job_type': 'A2', 'date': ''}, {'job_type': 'A2', 'date': ''}, {'job_type': 'A2', 'date': '08/19/2009'}, {'job_type': 'A2', 'date': '03/18/2013'}, {'job_type': 'A2', 'date': '12/10/2015'}, {'job_type': 'A2', 'date': '12/10/2015'}, {'job_type': 'A1', 'date': '05/18/2016'}, {'job_type': 'A1', 'date': ''}, {'job_type': 'A1', 'date': ''}, {'job_type': 'A2', 'date': '10/24/2016'}, {'job_type': 'A2', 'date': '09/09/2016'}, {'job_type': 'A1', 'date': ''}, {'job_type': 'A3', 'date': '05/06/2016'}, {'job_type': 'A3', 'date': '08/31/2016'}, {'job_type': 'A2', 'date': ''}, {'job_type': 'A2', 'date': '06/30/2005'}, {'job_type': 'A2', 'date': ''}, {'job_type': 'A2', 'date': ''}, {'job_type': 'A2', 'date': ''}, {'job_type': 'A2', 'date': '12/08/2004'}, {'job_type': 'A2', 'date': '02/28/2006'}, {'job_type': 'A2', 'date': '04/15/2010'}]\n",
      "1000930029 []\n",
      "1001060020 [{'job_type': 'A2', 'date': '10/27/2009'}]\n"
     ]
    }
   ],
   "source": [
    "for index, row in m[:10].iterrows():\n",
    "    block = str(row['bbl'])[1:6]\n",
    "    lot = \"0\" + str(row['bbl'])[6:]\n",
    "    sleep(1)\n",
    "    r = requests.get(f'https://data.cityofnewyork.us/resource/ic3t-wcy2.json?borough=MANHATTAN&block={block}&lot={lot}')\n",
    "    data = r.json()\n",
    "    \n",
    "    permits_array = []\n",
    "    for permit in data:\n",
    "        permits_array.append({\n",
    "            'job_type': permit['job_type'],\n",
    "            'date': permit['fully_permitted']  if 'fully_permitted' in permit else ''\n",
    "        })\n",
    "    print(row['bbl'], permits_array)"
   ]
  },
  {
   "cell_type": "code",
   "execution_count": 40,
   "metadata": {},
   "outputs": [],
   "source": [
    "data = [{'job_type': 'NB', 'date': '09/09/2016'}, {'job_type': 'A1', 'date': ''}, {'job_type': 'A3', 'date': '05/06/2016'}, {'job_type': 'A3', 'date': '08/31/2016'}, {'job_type': 'A2', 'date': ''}, {'job_type': 'A2', 'date': '06/30/2005'}, {'job_type': 'A2', 'date': ''}, {'job_type': 'A2', 'date': ''}, {'job_type': 'A2', 'date': ''}, {'job_type': 'A2', 'date': '12/08/2004'}, {'job_type': 'A2', 'date': '02/28/2006'}]"
   ]
  },
  {
   "cell_type": "code",
   "execution_count": 41,
   "metadata": {},
   "outputs": [
    {
     "data": {
      "text/plain": [
       "[{'job_type': 'NB', 'date': '09/09/2016'},\n",
       " {'job_type': 'A1', 'date': ''},\n",
       " {'job_type': 'A3', 'date': '05/06/2016'},\n",
       " {'job_type': 'A3', 'date': '08/31/2016'},\n",
       " {'job_type': 'A2', 'date': ''},\n",
       " {'job_type': 'A2', 'date': '06/30/2005'},\n",
       " {'job_type': 'A2', 'date': ''},\n",
       " {'job_type': 'A2', 'date': ''},\n",
       " {'job_type': 'A2', 'date': ''},\n",
       " {'job_type': 'A2', 'date': '12/08/2004'},\n",
       " {'job_type': 'A2', 'date': '02/28/2006'}]"
      ]
     },
     "execution_count": 41,
     "metadata": {},
     "output_type": "execute_result"
    }
   ],
   "source": [
    "data"
   ]
  },
  {
   "cell_type": "code",
   "execution_count": 35,
   "metadata": {},
   "outputs": [],
   "source": [
    "A2 = [job['date'] for job in data if job['job_type'] == 'A2']"
   ]
  },
  {
   "cell_type": "code",
   "execution_count": 39,
   "metadata": {},
   "outputs": [
    {
     "data": {
      "text/plain": [
       "['09/09/2016', '06/30/2005', '12/08/2004', '02/28/2006']"
      ]
     },
     "execution_count": 39,
     "metadata": {},
     "output_type": "execute_result"
    }
   ],
   "source": []
  },
  {
   "cell_type": "code",
   "execution_count": 43,
   "metadata": {},
   "outputs": [],
   "source": [
    "NB = [job['date'] for job in data if job['job_type']== 'NB']"
   ]
  },
  {
   "cell_type": "code",
   "execution_count": 47,
   "metadata": {},
   "outputs": [
    {
     "data": {
      "text/plain": [
       "'09/09/2016, 06/30/2005, 12/08/2004, 02/28/2006'"
      ]
     },
     "execution_count": 47,
     "metadata": {},
     "output_type": "execute_result"
    }
   ],
   "source": [
    "', '.join([date for date in A2 if date != ''])"
   ]
  },
  {
   "cell_type": "code",
   "execution_count": null,
   "metadata": {},
   "outputs": [],
   "source": []
  }
 ],
 "metadata": {
  "kernelspec": {
   "display_name": "Python 3",
   "language": "python",
   "name": "python3"
  },
  "language_info": {
   "codemirror_mode": {
    "name": "ipython",
    "version": 3
   },
   "file_extension": ".py",
   "mimetype": "text/x-python",
   "name": "python",
   "nbconvert_exporter": "python",
   "pygments_lexer": "ipython3",
   "version": "3.7.4"
  }
 },
 "nbformat": 4,
 "nbformat_minor": 2
}
