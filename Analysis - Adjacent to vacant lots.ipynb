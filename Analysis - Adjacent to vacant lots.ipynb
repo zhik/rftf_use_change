{
 "cells": [
  {
   "cell_type": "markdown",
   "metadata": {},
   "source": [
    "Using the latest PLUTO (January 2020 version) there are 904 features classified as Religious Facilities (M1, M2, M3, M4, or M9) in Manhattan. \n",
    "\n",
    "1. Using PLUTO’s Shoreline shapefile in QGIS, we selected the Rf’s by filtering the dataset by building class selecting all that beginning with “M” using select by expression.\n",
    "2. Using select by location to identify ‘vacant lots’ and ‘soft sites’ using the PLUTO’s data dictionary to determine the relevant values to select by. (Appendix) these columns were added to the Rf attribute table.\n",
    "3. Open field calculator in the RF attribute table was used to identify the that were adjacent to both a vacant lot and a potential soft site.\n",
    "4. Graphs were created by exporting and using the final Rf attribute utilizing pivot tables.\n",
    "5. Data shows that there are:\n",
    "    - 131 RF’s adjacent to vacant lots or potential softsite features.\n",
    "    - 6 RF’s are adjacent to both a vacant lot and a potential softsite.\n",
    "    - 58 RF’s adjacent to softsites (total)\n",
    "    - 79 RF’s adjacent to vacant lots (total)\n",
    "\n",
    "Appendix\n",
    "V1-9 Vacant Land\n",
    "Soft sites include building classes from PLUTO’s DATA Dictionary\n",
    "Z2 Miscellaneous public parking area,\n",
    "G0 Residential Tax Class 1 garage\n",
    "G1 All Parking Garages\n",
    "G5 Licensed Parking lot\n",
    "G6 Unlicensed Parking lot\n",
    "\n",
    "This is consistent with the land use (10) Parking facilities. \n",
    "G9- Miscellaneous garage or Gas Station, is not included because it falls under (07)Transportation and utility .\n"
   ]
  },
  {
   "cell_type": "code",
   "execution_count": 1,
   "metadata": {},
   "outputs": [],
   "source": [
    "import pandas as pd"
   ]
  },
  {
   "cell_type": "code",
   "execution_count": 4,
   "metadata": {},
   "outputs": [
    {
     "data": {
      "text/html": [
       "<div>\n",
       "<style scoped>\n",
       "    .dataframe tbody tr th:only-of-type {\n",
       "        vertical-align: middle;\n",
       "    }\n",
       "\n",
       "    .dataframe tbody tr th {\n",
       "        vertical-align: top;\n",
       "    }\n",
       "\n",
       "    .dataframe thead th {\n",
       "        text-align: right;\n",
       "    }\n",
       "</style>\n",
       "<table border=\"1\" class=\"dataframe\">\n",
       "  <thead>\n",
       "    <tr style=\"text-align: right;\">\n",
       "      <th></th>\n",
       "      <th>BBL</th>\n",
       "      <th>Vacant</th>\n",
       "      <th>SoftSite</th>\n",
       "      <th>Adjacency</th>\n",
       "    </tr>\n",
       "  </thead>\n",
       "  <tbody>\n",
       "    <tr>\n",
       "      <td>0</td>\n",
       "      <td>1.022010e+09</td>\n",
       "      <td>NaN</td>\n",
       "      <td>NaN</td>\n",
       "      <td>NaN</td>\n",
       "    </tr>\n",
       "    <tr>\n",
       "      <td>1</td>\n",
       "      <td>1.015350e+09</td>\n",
       "      <td>NaN</td>\n",
       "      <td>NaN</td>\n",
       "      <td>NaN</td>\n",
       "    </tr>\n",
       "    <tr>\n",
       "      <td>2</td>\n",
       "      <td>1.017260e+09</td>\n",
       "      <td>NaN</td>\n",
       "      <td>NaN</td>\n",
       "      <td>NaN</td>\n",
       "    </tr>\n",
       "    <tr>\n",
       "      <td>3</td>\n",
       "      <td>1.021580e+09</td>\n",
       "      <td>NaN</td>\n",
       "      <td>NaN</td>\n",
       "      <td>NaN</td>\n",
       "    </tr>\n",
       "    <tr>\n",
       "      <td>4</td>\n",
       "      <td>1.020360e+09</td>\n",
       "      <td>NaN</td>\n",
       "      <td>NaN</td>\n",
       "      <td>NaN</td>\n",
       "    </tr>\n",
       "    <tr>\n",
       "      <td>...</td>\n",
       "      <td>...</td>\n",
       "      <td>...</td>\n",
       "      <td>...</td>\n",
       "      <td>...</td>\n",
       "    </tr>\n",
       "    <tr>\n",
       "      <td>899</td>\n",
       "      <td>1.018710e+09</td>\n",
       "      <td>NaN</td>\n",
       "      <td>NaN</td>\n",
       "      <td>NaN</td>\n",
       "    </tr>\n",
       "    <tr>\n",
       "      <td>900</td>\n",
       "      <td>1.014150e+09</td>\n",
       "      <td>NaN</td>\n",
       "      <td>NaN</td>\n",
       "      <td>NaN</td>\n",
       "    </tr>\n",
       "    <tr>\n",
       "      <td>901</td>\n",
       "      <td>1.019170e+09</td>\n",
       "      <td>NaN</td>\n",
       "      <td>1.0</td>\n",
       "      <td>soft only</td>\n",
       "    </tr>\n",
       "    <tr>\n",
       "      <td>902</td>\n",
       "      <td>1.016770e+09</td>\n",
       "      <td>NaN</td>\n",
       "      <td>NaN</td>\n",
       "      <td>NaN</td>\n",
       "    </tr>\n",
       "    <tr>\n",
       "      <td>903</td>\n",
       "      <td>1.021230e+09</td>\n",
       "      <td>NaN</td>\n",
       "      <td>NaN</td>\n",
       "      <td>NaN</td>\n",
       "    </tr>\n",
       "  </tbody>\n",
       "</table>\n",
       "<p>904 rows × 4 columns</p>\n",
       "</div>"
      ],
      "text/plain": [
       "              BBL  Vacant  SoftSite  Adjacency\n",
       "0    1.022010e+09     NaN       NaN        NaN\n",
       "1    1.015350e+09     NaN       NaN        NaN\n",
       "2    1.017260e+09     NaN       NaN        NaN\n",
       "3    1.021580e+09     NaN       NaN        NaN\n",
       "4    1.020360e+09     NaN       NaN        NaN\n",
       "..            ...     ...       ...        ...\n",
       "899  1.018710e+09     NaN       NaN        NaN\n",
       "900  1.014150e+09     NaN       NaN        NaN\n",
       "901  1.019170e+09     NaN       1.0  soft only\n",
       "902  1.016770e+09     NaN       NaN        NaN\n",
       "903  1.021230e+09     NaN       NaN        NaN\n",
       "\n",
       "[904 rows x 4 columns]"
      ]
     },
     "execution_count": 4,
     "metadata": {},
     "output_type": "execute_result"
    }
   ],
   "source": [
    "#join to processed data \n",
    "#to-do convert steps to geopandas\n",
    "adjacency = pd.read_csv('./processed_data/adjacency.csv')\n",
    "adjacency[['BBL','Vacant','SoftSite','Adjacency']]"
   ]
  },
  {
   "cell_type": "code",
   "execution_count": 11,
   "metadata": {},
   "outputs": [],
   "source": [
    "#convert bbl to int\n",
    "adjacency['BBL'] = adjacency['BBL'].astype(\"int64\")\n",
    "#lower case all columns\n",
    "adjacency = adjacency.rename(str.lower, axis='columns')"
   ]
  },
  {
   "cell_type": "code",
   "execution_count": 15,
   "metadata": {},
   "outputs": [],
   "source": [
    "#join to step4 data\n",
    "step_4 = pd.read_csv('./processed_data/merged_step4.csv')\n",
    "step_5 = pd.merge(step_4, adjacency[['bbl','vacant','softsite','adjacency']], on = 'bbl')"
   ]
  },
  {
   "cell_type": "code",
   "execution_count": 16,
   "metadata": {},
   "outputs": [],
   "source": [
    "step_5.to_csv('./processed_data/merged_step5.csv', index = False)"
   ]
  }
 ],
 "metadata": {
  "kernelspec": {
   "display_name": "Python 3",
   "language": "python",
   "name": "python3"
  },
  "language_info": {
   "codemirror_mode": {
    "name": "ipython",
    "version": 3
   },
   "file_extension": ".py",
   "mimetype": "text/x-python",
   "name": "python",
   "nbconvert_exporter": "python",
   "pygments_lexer": "ipython3",
   "version": "3.7.4"
  }
 },
 "nbformat": 4,
 "nbformat_minor": 2
}
