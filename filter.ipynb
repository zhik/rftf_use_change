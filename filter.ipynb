{
 "cells": [
  {
   "cell_type": "code",
   "execution_count": 1,
   "metadata": {},
   "outputs": [],
   "source": [
    "import pandas as pd"
   ]
  },
  {
   "cell_type": "markdown",
   "metadata": {},
   "source": [
    "### Import data and filter columns"
   ]
  },
  {
   "cell_type": "code",
   "execution_count": 30,
   "metadata": {},
   "outputs": [],
   "source": [
    "pluto_15 = pd.read_csv('./data/15v1_mn.csv')\n",
    "pluto_15_c = pluto_15[~pd.isna(pluto_15['BBL'])].copy()\n",
    "pluto_15_c[\"BBL\"] = pluto_15_c[\"BBL\"].astype(\"int64\")"
   ]
  },
  {
   "cell_type": "code",
   "execution_count": 70,
   "metadata": {},
   "outputs": [],
   "source": [
    "pluto_15_c[[\"BBL\",\"BldgClass\"]].to_csv('./processed_data/15.csv', index = False)"
   ]
  },
  {
   "cell_type": "code",
   "execution_count": 34,
   "metadata": {},
   "outputs": [],
   "source": [
    "pluto_16_c = pd.read_csv('./data/16v2_mn.csv')\n",
    "pluto_16_c[\"BBL\"] = pluto_16_c[\"BBL\"].astype(\"int64\")"
   ]
  },
  {
   "cell_type": "code",
   "execution_count": 69,
   "metadata": {},
   "outputs": [],
   "source": [
    "pluto_16_c[[\"BBL\",\"BldgClass\"]].to_csv('./processed_data/16.csv', index = False)"
   ]
  },
  {
   "cell_type": "code",
   "execution_count": 39,
   "metadata": {},
   "outputs": [],
   "source": [
    "pluto_17_c = pd.read_csv('./data/17v1_mn.csv')\n",
    "pluto_17_c[\"BBL\"] = pluto_17_c[\"BBL\"].astype(\"int64\")"
   ]
  },
  {
   "cell_type": "code",
   "execution_count": 68,
   "metadata": {},
   "outputs": [],
   "source": [
    "pluto_17_c[[\"BBL\",\"BldgClass\"]].to_csv('./processed_data/17.csv', index = False)"
   ]
  },
  {
   "cell_type": "code",
   "execution_count": 64,
   "metadata": {},
   "outputs": [],
   "source": [
    "pluto_18=pd.read_csv('./data/18v2.csv')\n",
    "pluto_18_b = pluto_18[pluto_18[\"borough\"] == \"MN\"]\n",
    "pluto_18_c = pluto_18_b[~pd.isna(pluto_18_b['bbl'])].copy()\n",
    "pluto_18_c[\"bbl\"] =pluto_18_c[\"bbl\"].astype(\"int64\")"
   ]
  },
  {
   "cell_type": "code",
   "execution_count": 67,
   "metadata": {},
   "outputs": [],
   "source": [
    "pluto_18_c[[\"bbl\",\"bldgclass\"]].to_csv('./processed_data/18.csv', index = False)"
   ]
  },
  {
   "cell_type": "code",
   "execution_count": 59,
   "metadata": {},
   "outputs": [],
   "source": [
    "pluto_19 = pd.read_csv('./data/19v2.csv')\n",
    "pluto_19_c = pluto_19[pluto_19[\"borough\"] == \"MN\"].copy()\n",
    "pluto_19_c[\"bbl\"] =pluto_19_c[\"bbl\"].astype(\"int64\")"
   ]
  },
  {
   "cell_type": "code",
   "execution_count": 66,
   "metadata": {},
   "outputs": [],
   "source": [
    "pluto_19_c[[\"bbl\",\"bldgclass\"]].to_csv('./processed_data/19.csv', index = False)"
   ]
  },
  {
   "cell_type": "code",
   "execution_count": null,
   "metadata": {},
   "outputs": [],
   "source": []
  }
 ],
 "metadata": {
  "kernelspec": {
   "display_name": "Python 3",
   "language": "python",
   "name": "python3"
  },
  "language_info": {
   "codemirror_mode": {
    "name": "ipython",
    "version": 3
   },
   "file_extension": ".py",
   "mimetype": "text/x-python",
   "name": "python",
   "nbconvert_exporter": "python",
   "pygments_lexer": "ipython3",
   "version": "3.7.4"
  }
 },
 "nbformat": 4,
 "nbformat_minor": 2
}
