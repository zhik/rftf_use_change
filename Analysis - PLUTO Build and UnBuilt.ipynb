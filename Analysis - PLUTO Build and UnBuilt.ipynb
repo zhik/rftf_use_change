{
 "cells": [
  {
   "cell_type": "code",
   "execution_count": 1,
   "metadata": {},
   "outputs": [],
   "source": [
    "import pandas as pd"
   ]
  },
  {
   "cell_type": "code",
   "execution_count": 5,
   "metadata": {},
   "outputs": [],
   "source": [
    "#get far fields from lastest pluto\n",
    "pluto = pd.read_csv('./data/20v1.csv')\n",
    "mn_pluto = pluto[pluto['borough'] == 'MN'][['bbl', 'builtfar','residfar','commfar','facilfar']].copy()"
   ]
  },
  {
   "cell_type": "code",
   "execution_count": 6,
   "metadata": {},
   "outputs": [],
   "source": [
    "#merge\n",
    "df = pd.read_csv('./processed_data/merged_step3.csv')\n",
    "far_df = pd.merge(df, mn_pluto, on = \"bbl\")"
   ]
  },
  {
   "cell_type": "code",
   "execution_count": 19,
   "metadata": {},
   "outputs": [],
   "source": [
    "#calculate unbuilt far\n",
    "def getUnbuilt(row):\n",
    "    if row['builtfar']:\n",
    "        max_far = max([row['residfar'], row['commfar'], row['facilfar']])\n",
    "        return max_far - row['builtfar']\n",
    "    else:\n",
    "        return None\n",
    "    \n",
    "\n",
    "far_df['unbuiltfar'] = far_df.apply(getUnbuilt, axis = 1)"
   ]
  },
  {
   "cell_type": "code",
   "execution_count": 20,
   "metadata": {},
   "outputs": [
    {
     "data": {
      "text/plain": [
       "0    13.56\n",
       "1    11.00\n",
       "2    14.84\n",
       "3    14.81\n",
       "4    14.08\n",
       "Name: unbuiltfar, dtype: float64"
      ]
     },
     "execution_count": 20,
     "metadata": {},
     "output_type": "execute_result"
    }
   ],
   "source": [
    "far_df['unbuiltfar'].head()"
   ]
  },
  {
   "cell_type": "code",
   "execution_count": 21,
   "metadata": {},
   "outputs": [],
   "source": [
    "far_df.to_csv('./processed_data/merged_step4.csv', index = False)"
   ]
  }
 ],
 "metadata": {
  "kernelspec": {
   "display_name": "Python 3",
   "language": "python",
   "name": "python3"
  },
  "language_info": {
   "codemirror_mode": {
    "name": "ipython",
    "version": 3
   },
   "file_extension": ".py",
   "mimetype": "text/x-python",
   "name": "python",
   "nbconvert_exporter": "python",
   "pygments_lexer": "ipython3",
   "version": "3.7.4"
  }
 },
 "nbformat": 4,
 "nbformat_minor": 2
}
