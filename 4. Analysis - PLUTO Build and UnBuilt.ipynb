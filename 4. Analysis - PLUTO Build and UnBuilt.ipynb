{
 "cells": [
  {
   "cell_type": "code",
   "execution_count": 1,
   "metadata": {},
   "outputs": [],
   "source": [
    "import pandas as pd"
   ]
  },
  {
   "cell_type": "code",
   "execution_count": 2,
   "metadata": {},
   "outputs": [
    {
     "name": "stderr",
     "output_type": "stream",
     "text": [
      "/home/steve/anaconda3/lib/python3.7/site-packages/IPython/core/interactiveshell.py:3058: DtypeWarning: Columns (17,18,20,22) have mixed types. Specify dtype option on import or set low_memory=False.\n",
      "  interactivity=interactivity, compiler=compiler, result=result)\n"
     ]
    }
   ],
   "source": [
    "#get far fields from lastest pluto\n",
    "pluto = pd.read_csv('./data/20v1.csv')\n",
    "mn_pluto = pluto[pluto['borough'] == 'MN'][['bbl', 'builtfar','residfar','commfar','facilfar']].copy()"
   ]
  },
  {
   "cell_type": "code",
   "execution_count": 7,
   "metadata": {},
   "outputs": [],
   "source": [
    "#merge\n",
    "df = pd.read_csv('./processed_data/merged_step3.csv')\n",
    "far_df = pd.merge(df, mn_pluto, on = \"bbl\", how = \"left\")"
   ]
  },
  {
   "cell_type": "code",
   "execution_count": 8,
   "metadata": {},
   "outputs": [],
   "source": [
    "#calculate unbuilt far\n",
    "def getUnbuilt(row):\n",
    "    if row['builtfar']:\n",
    "        max_far = max([row['residfar'], row['commfar'], row['facilfar']])\n",
    "        return max_far - row['builtfar']\n",
    "    else:\n",
    "        return None\n",
    "    \n",
    "\n",
    "far_df['unbuiltfar'] = far_df.apply(getUnbuilt, axis = 1)"
   ]
  },
  {
   "cell_type": "code",
   "execution_count": 10,
   "metadata": {},
   "outputs": [
    {
     "data": {
      "text/plain": [
       "1020     5.45\n",
       "1021    -1.99\n",
       "1022      NaN\n",
       "1023    14.33\n",
       "1024     3.72\n",
       "Name: unbuiltfar, dtype: float64"
      ]
     },
     "execution_count": 10,
     "metadata": {},
     "output_type": "execute_result"
    }
   ],
   "source": [
    "far_df['unbuiltfar'].tail()"
   ]
  },
  {
   "cell_type": "code",
   "execution_count": 11,
   "metadata": {},
   "outputs": [],
   "source": [
    "far_df.to_csv('./processed_data/merged_step4.csv', index = False)"
   ]
  }
 ],
 "metadata": {
  "kernelspec": {
   "display_name": "Python 3",
   "language": "python",
   "name": "python3"
  },
  "language_info": {
   "codemirror_mode": {
    "name": "ipython",
    "version": 3
   },
   "file_extension": ".py",
   "mimetype": "text/x-python",
   "name": "python",
   "nbconvert_exporter": "python",
   "pygments_lexer": "ipython3",
   "version": "3.7.4"
  }
 },
 "nbformat": 4,
 "nbformat_minor": 2
}
