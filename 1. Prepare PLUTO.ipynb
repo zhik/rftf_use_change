{
 "cells": [
  {
   "cell_type": "code",
   "execution_count": 3,
   "metadata": {},
   "outputs": [],
   "source": [
    "import pandas as pd"
   ]
  },
  {
   "cell_type": "markdown",
   "metadata": {},
   "source": [
    "### Import data and filter columns"
   ]
  },
  {
   "cell_type": "code",
   "execution_count": 6,
   "metadata": {},
   "outputs": [],
   "source": [
    "export_cols_1 = [\"BBL\",\"BldgClass\",\"LotArea\",\"BldgArea\",\"HistDist\",\"Landmark\",\"OwnerName\",\"\"]\n",
    "export_cols_2 = [col.lower() for col in export_cols_1]"
   ]
  },
  {
   "cell_type": "code",
   "execution_count": 19,
   "metadata": {},
   "outputs": [],
   "source": [
    "pluto_10 = pd.read_csv('./data/10v2_mn.csv')\n",
    "pluto_10_c = pluto_10[~pd.isna(pluto_10['BBL'])].copy()\n",
    "pluto_10_c[\"BBL\"] = pluto_10_c[\"BBL\"].astype(\"int64\")"
   ]
  },
  {
   "cell_type": "code",
   "execution_count": 20,
   "metadata": {},
   "outputs": [],
   "source": [
    "pluto_10_c[export_cols_1].to_csv('./processed_data/10.csv', index = False)"
   ]
  },
  {
   "cell_type": "code",
   "execution_count": 21,
   "metadata": {},
   "outputs": [],
   "source": [
    "pluto_11 = pd.read_csv('./data/11v2_mn.csv')\n",
    "pluto_11_c = pluto_11[~pd.isna(pluto_11['BBL'])].copy()\n",
    "pluto_11_c[\"BBL\"] = pluto_11_c[\"BBL\"].astype(\"int64\")"
   ]
  },
  {
   "cell_type": "code",
   "execution_count": 22,
   "metadata": {},
   "outputs": [],
   "source": [
    "pluto_11_c[export_cols_1].to_csv('./processed_data/11.csv', index = False)"
   ]
  },
  {
   "cell_type": "code",
   "execution_count": 23,
   "metadata": {},
   "outputs": [
    {
     "name": "stderr",
     "output_type": "stream",
     "text": [
      "/home/steve/anaconda3/lib/python3.7/site-packages/IPython/core/interactiveshell.py:3058: DtypeWarning: Columns (74) have mixed types. Specify dtype option on import or set low_memory=False.\n",
      "  interactivity=interactivity, compiler=compiler, result=result)\n"
     ]
    }
   ],
   "source": [
    "pluto_12 = pd.read_csv('./data/12v2_mn.csv')\n",
    "pluto_12_c = pluto_12[~pd.isna(pluto_12['BBL'])].copy()\n",
    "pluto_12_c[\"BBL\"] = pluto_12_c[\"BBL\"].astype(\"int64\")"
   ]
  },
  {
   "cell_type": "code",
   "execution_count": 24,
   "metadata": {},
   "outputs": [],
   "source": [
    "pluto_12_c[export_cols_1].to_csv('./processed_data/12.csv', index = False)"
   ]
  },
  {
   "cell_type": "code",
   "execution_count": 25,
   "metadata": {},
   "outputs": [
    {
     "name": "stderr",
     "output_type": "stream",
     "text": [
      "/home/steve/anaconda3/lib/python3.7/site-packages/IPython/core/interactiveshell.py:3058: DtypeWarning: Columns (15,18,19,20,77) have mixed types. Specify dtype option on import or set low_memory=False.\n",
      "  interactivity=interactivity, compiler=compiler, result=result)\n"
     ]
    }
   ],
   "source": [
    "pluto_13 = pd.read_csv('./data/13v2_mn.csv')\n",
    "pluto_13_c = pluto_13[~pd.isna(pluto_13['BBL'])].copy()\n",
    "pluto_13_c[\"BBL\"] = pluto_13_c[\"BBL\"].astype(\"int64\")"
   ]
  },
  {
   "cell_type": "code",
   "execution_count": 26,
   "metadata": {},
   "outputs": [],
   "source": [
    "pluto_13_c[export_cols_1].to_csv('./processed_data/13.csv', index = False)"
   ]
  },
  {
   "cell_type": "code",
   "execution_count": 27,
   "metadata": {},
   "outputs": [
    {
     "name": "stderr",
     "output_type": "stream",
     "text": [
      "/home/steve/anaconda3/lib/python3.7/site-packages/IPython/core/interactiveshell.py:3058: DtypeWarning: Columns (16,19,20,21,78) have mixed types. Specify dtype option on import or set low_memory=False.\n",
      "  interactivity=interactivity, compiler=compiler, result=result)\n"
     ]
    }
   ],
   "source": [
    "pluto_14 = pd.read_csv('./data/14v2_mn.csv')\n",
    "pluto_14_c = pluto_14[~pd.isna(pluto_14['BBL'])].copy()\n",
    "pluto_14_c[\"BBL\"] = pluto_14_c[\"BBL\"].astype(\"int64\")"
   ]
  },
  {
   "cell_type": "code",
   "execution_count": 28,
   "metadata": {},
   "outputs": [],
   "source": [
    "pluto_14_c[export_cols_1].to_csv('./processed_data/14.csv', index = False)"
   ]
  },
  {
   "cell_type": "code",
   "execution_count": 29,
   "metadata": {},
   "outputs": [],
   "source": [
    "pluto_15 = pd.read_csv('./data/15v1_mn.csv')\n",
    "pluto_15_c = pluto_15[~pd.isna(pluto_15['BBL'])].copy()\n",
    "pluto_15_c[\"BBL\"] = pluto_15_c[\"BBL\"].astype(\"int64\")"
   ]
  },
  {
   "cell_type": "code",
   "execution_count": 30,
   "metadata": {},
   "outputs": [],
   "source": [
    "pluto_15_c[export_cols_1].to_csv('./processed_data/15.csv', index = False)"
   ]
  },
  {
   "cell_type": "code",
   "execution_count": 31,
   "metadata": {},
   "outputs": [
    {
     "name": "stderr",
     "output_type": "stream",
     "text": [
      "/home/steve/anaconda3/lib/python3.7/site-packages/IPython/core/interactiveshell.py:3058: DtypeWarning: Columns (19,22,23,25,63,79) have mixed types. Specify dtype option on import or set low_memory=False.\n",
      "  interactivity=interactivity, compiler=compiler, result=result)\n"
     ]
    }
   ],
   "source": [
    "pluto_16_c = pd.read_csv('./data/16v2_mn.csv')\n",
    "pluto_16_c[\"BBL\"] = pluto_16_c[\"BBL\"].astype(\"int64\")"
   ]
  },
  {
   "cell_type": "code",
   "execution_count": 32,
   "metadata": {},
   "outputs": [],
   "source": [
    "pluto_16_c[export_cols_1].to_csv('./processed_data/16.csv', index = False)"
   ]
  },
  {
   "cell_type": "code",
   "execution_count": 33,
   "metadata": {},
   "outputs": [
    {
     "name": "stderr",
     "output_type": "stream",
     "text": [
      "/home/steve/anaconda3/lib/python3.7/site-packages/IPython/core/interactiveshell.py:3058: DtypeWarning: Columns (19,20,22,24,26) have mixed types. Specify dtype option on import or set low_memory=False.\n",
      "  interactivity=interactivity, compiler=compiler, result=result)\n"
     ]
    }
   ],
   "source": [
    "pluto_17_c = pd.read_csv('./data/17v1_mn.csv')\n",
    "pluto_17_c[\"BBL\"] = pluto_17_c[\"BBL\"].astype(\"int64\")"
   ]
  },
  {
   "cell_type": "code",
   "execution_count": 34,
   "metadata": {},
   "outputs": [],
   "source": [
    "pluto_17_c[export_cols_1].to_csv('./processed_data/17.csv', index = False)"
   ]
  },
  {
   "cell_type": "code",
   "execution_count": 35,
   "metadata": {},
   "outputs": [
    {
     "name": "stderr",
     "output_type": "stream",
     "text": [
      "/home/steve/anaconda3/lib/python3.7/site-packages/IPython/core/interactiveshell.py:3058: DtypeWarning: Columns (16,17,18,20,22,77) have mixed types. Specify dtype option on import or set low_memory=False.\n",
      "  interactivity=interactivity, compiler=compiler, result=result)\n"
     ]
    }
   ],
   "source": [
    "pluto_18=pd.read_csv('./data/18v2.csv')\n",
    "pluto_18_b = pluto_18[pluto_18[\"borough\"] == \"MN\"]\n",
    "pluto_18_c = pluto_18_b[~pd.isna(pluto_18_b['bbl'])].copy()\n",
    "pluto_18_c[\"bbl\"] =pluto_18_c[\"bbl\"].astype(\"int64\")"
   ]
  },
  {
   "cell_type": "code",
   "execution_count": 36,
   "metadata": {},
   "outputs": [],
   "source": [
    "pluto_18_c[export_cols_2].to_csv('./processed_data/18.csv', index = False)"
   ]
  },
  {
   "cell_type": "code",
   "execution_count": 4,
   "metadata": {},
   "outputs": [
    {
     "name": "stderr",
     "output_type": "stream",
     "text": [
      "/home/steve/anaconda3/lib/python3.7/site-packages/IPython/core/interactiveshell.py:3058: DtypeWarning: Columns (17,18,20,22,24,62,96) have mixed types. Specify dtype option on import or set low_memory=False.\n",
      "  interactivity=interactivity, compiler=compiler, result=result)\n"
     ]
    }
   ],
   "source": [
    "pluto_19 = pd.read_csv('./data/19v2.csv')\n",
    "pluto_19_c = pluto_19[pluto_19[\"borough\"] == \"MN\"].copy()\n",
    "pluto_19_c[\"bbl\"] =pluto_19_c[\"bbl\"].astype(\"int64\")"
   ]
  },
  {
   "cell_type": "code",
   "execution_count": 7,
   "metadata": {},
   "outputs": [],
   "source": [
    "pluto_19_c[export_cols_2].to_csv('./processed_data/19.csv', index = False)"
   ]
  },
  {
   "cell_type": "code",
   "execution_count": 8,
   "metadata": {},
   "outputs": [
    {
     "name": "stderr",
     "output_type": "stream",
     "text": [
      "/home/steve/anaconda3/lib/python3.7/site-packages/IPython/core/interactiveshell.py:3058: DtypeWarning: Columns (17,18,20,22) have mixed types. Specify dtype option on import or set low_memory=False.\n",
      "  interactivity=interactivity, compiler=compiler, result=result)\n"
     ]
    }
   ],
   "source": [
    "pluto_20 = pd.read_csv('./data/20v1.csv')\n",
    "pluto_20_c = pluto_20[pluto_20[\"borough\"] == \"MN\"].copy()\n",
    "pluto_20_c[\"bbl\"] =pluto_20_c[\"bbl\"].astype(\"int64\")"
   ]
  },
  {
   "cell_type": "code",
   "execution_count": 9,
   "metadata": {},
   "outputs": [],
   "source": [
    "pluto_20_c[export_cols_2].to_csv('./processed_data/20.csv', index = False)"
   ]
  }
 ],
 "metadata": {
  "kernelspec": {
   "display_name": "Python 3",
   "language": "python",
   "name": "python3"
  },
  "language_info": {
   "codemirror_mode": {
    "name": "ipython",
    "version": 3
   },
   "file_extension": ".py",
   "mimetype": "text/x-python",
   "name": "python",
   "nbconvert_exporter": "python",
   "pygments_lexer": "ipython3",
   "version": "3.7.4"
  }
 },
 "nbformat": 4,
 "nbformat_minor": 2
}
